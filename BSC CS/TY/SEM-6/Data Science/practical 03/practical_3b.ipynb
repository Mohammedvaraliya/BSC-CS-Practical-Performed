{
 "cells": [
  {
   "cell_type": "markdown",
   "metadata": {},
   "source": [
    "**Name: Mohammed Varaliya**\n",
    "\n",
    "**Roll No: T109**"
   ]
  },
  {
   "cell_type": "markdown",
   "metadata": {},
   "source": [
    "## Categorical variables into numerical"
   ]
  },
  {
   "cell_type": "code",
   "execution_count": 1,
   "metadata": {},
   "outputs": [
    {
     "name": "stdout",
     "output_type": "stream",
     "text": [
      "Original Labels:\n",
      "['cat', 'dog', 'bird', 'cat']\n",
      "\n",
      "Binary Labels:\n",
      "[[0 1 0]\n",
      " [0 0 1]\n",
      " [1 0 0]\n",
      " [0 1 0]]\n"
     ]
    }
   ],
   "source": [
    "from sklearn.preprocessing import LabelBinarizer\n",
    "\n",
    "# Sample labels\n",
    "labels = ['cat', 'dog', 'bird', 'cat']\n",
    "\n",
    "# Initialize LabelBinarizer\n",
    "binarizer = LabelBinarizer()\n",
    "\n",
    "# Fit and transform the labels\n",
    "binary_labels = binarizer.fit_transform(labels)\n",
    "\n",
    "print(\"Original Labels:\")\n",
    "print(labels)\n",
    "print(\"\\nBinary Labels:\")\n",
    "print(binary_labels)\n"
   ]
  },
  {
   "cell_type": "code",
   "execution_count": 2,
   "metadata": {},
   "outputs": [
    {
     "name": "stdout",
     "output_type": "stream",
     "text": [
      "Original Multi-Labels:\n",
      "[('cat', 'dog'), ('bird', 'cat'), ('dog',)]\n",
      "\n",
      "Binary Multi-Labels:\n",
      "[[0 1 1]\n",
      " [1 1 0]\n",
      " [0 0 1]]\n"
     ]
    }
   ],
   "source": [
    "from sklearn.preprocessing import MultiLabelBinarizer\n",
    "\n",
    "# Sample multi-labels\n",
    "multi_labels = [('cat', 'dog'), ('bird', 'cat'), ('dog',)]\n",
    "\n",
    "# Initialize MultiLabelBinarizer\n",
    "multi_binarizer = MultiLabelBinarizer()\n",
    "\n",
    "# Fit and transform the multi-labels\n",
    "binary_multi_labels = multi_binarizer.fit_transform(multi_labels)\n",
    "\n",
    "print(\"Original Multi-Labels:\")\n",
    "print(multi_labels)\n",
    "print(\"\\nBinary Multi-Labels:\")\n",
    "print(binary_multi_labels)\n"
   ]
  },
  {
   "cell_type": "code",
   "execution_count": 3,
   "metadata": {},
   "outputs": [
    {
     "name": "stdout",
     "output_type": "stream",
     "text": [
      "[[4. 2. 0.]\n",
      " [3. 4. 0.]\n",
      " [0. 1. 2.]\n",
      " [0. 2. 2.]]\n"
     ]
    }
   ],
   "source": [
    "from sklearn.feature_extraction import DictVectorizer\n",
    "\n",
    "# Sample data in a list of dictionaries\n",
    "data_dict = [\n",
    "    {\"Red\": 2, \"Blue\": 4},\n",
    "    {\"Red\": 4, \"Blue\": 3},\n",
    "    {\"Red\": 1, \"Yellow\": 2},\n",
    "    {\"Red\": 2, \"Yellow\": 2}\n",
    "]\n",
    "\n",
    "# Create a dictionary vectorizer\n",
    "dict_vectorizer = DictVectorizer(sparse=False)  # Set sparse=False to get a dense array\n",
    "\n",
    "# Convert the list of dictionaries to a feature matrix\n",
    "features = dict_vectorizer.fit_transform(data_dict)\n",
    "\n",
    "# Display the transformed array\n",
    "print(features)\n",
    "\n"
   ]
  },
  {
   "cell_type": "code",
   "execution_count": 4,
   "metadata": {},
   "outputs": [
    {
     "name": "stdout",
     "output_type": "stream",
     "text": [
      "   Size\n",
      "0   0.0\n",
      "1   1.0\n",
      "2   2.0\n",
      "3   1.0\n",
      "4   0.0\n"
     ]
    }
   ],
   "source": [
    "from sklearn.preprocessing import OrdinalEncoder\n",
    "import pandas as pd\n",
    "\n",
    "# Sample DataFrame with ordinal features\n",
    "df = pd.DataFrame({'Size': ['Small', 'Medium', 'Large', 'Medium', 'Small']})\n",
    "\n",
    "# Define the order of categories for the ordinal feature\n",
    "size_order = ['Small', 'Medium', 'Large']\n",
    "\n",
    "# Initialize OrdinalEncoder with the specified order\n",
    "encoder = OrdinalEncoder(categories=[size_order])\n",
    "df[['Size']] = encoder.fit_transform(df[['Size']])\n",
    "print(df)\n"
   ]
  }
 ],
 "metadata": {
  "kernelspec": {
   "display_name": "Python 3",
   "language": "python",
   "name": "python3"
  },
  "language_info": {
   "codemirror_mode": {
    "name": "ipython",
    "version": 3
   },
   "file_extension": ".py",
   "mimetype": "text/x-python",
   "name": "python",
   "nbconvert_exporter": "python",
   "pygments_lexer": "ipython3",
   "version": "3.11.5"
  }
 },
 "nbformat": 4,
 "nbformat_minor": 2
}
