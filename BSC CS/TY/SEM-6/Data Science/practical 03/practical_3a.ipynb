{
  "cells": [
    {
      "cell_type": "markdown",
      "metadata": {},
      "source": [
        "**Name: Mohammed Varaliya**\n",
        "\n",
        "**Roll No: T109**"
      ]
    },
    {
      "cell_type": "markdown",
      "metadata": {
        "id": "EpR9l2m3h9J9"
      },
      "source": [
        "## Rescaling a feature"
      ]
    },
    {
      "cell_type": "code",
      "execution_count": 1,
      "metadata": {
        "colab": {
          "base_uri": "https://localhost:8080/"
        },
        "id": "hPWG4utfhtIH",
        "outputId": "ae0a4506-6815-4308-958f-1099e5ad2a16"
      },
      "outputs": [
        {
          "name": "stdout",
          "output_type": "stream",
          "text": [
            "Original Data:\n",
            "[[1. 2.]\n",
            " [2. 3.]\n",
            " [3. 4.]]\n",
            "\n",
            "Min-Max Scaled Data:\n",
            "[[0.  0. ]\n",
            " [0.5 0.5]\n",
            " [1.  1. ]]\n"
          ]
        }
      ],
      "source": [
        "from sklearn.preprocessing import MinMaxScaler\n",
        "import numpy as np\n",
        "\n",
        "data = np.array([\n",
        "                [1.0, 2.0],\n",
        "                [2.0, 3.0],\n",
        "                [3.0, 4.0]])\n",
        "\n",
        "scaler = MinMaxScaler(feature_range=(0,1))\n",
        "scaled_data = scaler.fit_transform(data)\n",
        "\n",
        "print(\"Original Data:\")\n",
        "print(data)\n",
        "print(\"\\nMin-Max Scaled Data:\")\n",
        "print(scaled_data)"
      ]
    },
    {
      "cell_type": "markdown",
      "metadata": {
        "id": "Cet0fueauVDM"
      },
      "source": [
        "## Standardizing a Feature"
      ]
    },
    {
      "cell_type": "code",
      "execution_count": 4,
      "metadata": {
        "colab": {
          "base_uri": "https://localhost:8080/"
        },
        "id": "56l_yD_nt7E4",
        "outputId": "2fabad97-761f-40cd-d7ef-dbd4322a5051"
      },
      "outputs": [
        {
          "name": "stdout",
          "output_type": "stream",
          "text": [
            "Original Data:\n",
            "[[1. 2.]\n",
            " [2. 3.]\n",
            " [3. 4.]]\n",
            "\n",
            "Standardized Data:\n",
            "[[-1.22474487 -1.22474487]\n",
            " [ 0.          0.        ]\n",
            " [ 1.22474487  1.22474487]]\n",
            "mean =  0.0\n",
            "Standard Deviation =  0.9999999999999999\n"
          ]
        }
      ],
      "source": [
        "from sklearn.preprocessing import StandardScaler\n",
        "import numpy as np\n",
        "\n",
        "data = np.array([[1.0, 2.0], [2.0, 3.0], [3.0, 4.0]])\n",
        "scaler = StandardScaler()\n",
        "standardized_data = scaler.fit_transform(data)\n",
        "\n",
        "print(\"Original Data:\")\n",
        "print(data)\n",
        "print(\"\\nStandardized Data:\")\n",
        "print(standardized_data)\n",
        "print(\"mean = \", standardized_data.mean())\n",
        "print(\"Standard Deviation = \", standardized_data.std())\n"
      ]
    },
    {
      "cell_type": "markdown",
      "metadata": {
        "id": "EuJ4BAg2v8Fw"
      },
      "source": [
        "## Normalizing Observations"
      ]
    },
    {
      "cell_type": "code",
      "execution_count": 5,
      "metadata": {
        "colab": {
          "base_uri": "https://localhost:8080/"
        },
        "id": "I5hUx4fSvnfG",
        "outputId": "d4010e36-ea4d-4cc0-fa2c-e6b9754ba382"
      },
      "outputs": [
        {
          "name": "stdout",
          "output_type": "stream",
          "text": [
            "Original Data:\n",
            "[[1. 2.]\n",
            " [2. 3.]\n",
            " [3. 4.]]\n",
            "\n",
            "Normalized Data:\n",
            "[[0.4472136  0.89442719]\n",
            " [0.5547002  0.83205029]\n",
            " [0.6        0.8       ]]\n"
          ]
        }
      ],
      "source": [
        "from sklearn.preprocessing import Normalizer\n",
        "import numpy as np\n",
        "\n",
        "data = np.array([[1.0, 2.0], [2.0, 3.0], [3.0, 4.0]])\n",
        "normalizer = Normalizer(norm='l2')\n",
        "normalized_data = normalizer.fit_transform(data)\n",
        "\n",
        "print(\"Original Data:\")\n",
        "print(data)\n",
        "print(\"\\nNormalized Data:\")\n",
        "print(normalized_data)"
      ]
    },
    {
      "cell_type": "code",
      "execution_count": 6,
      "metadata": {
        "colab": {
          "base_uri": "https://localhost:8080/"
        },
        "id": "eutGz8TgwzBL",
        "outputId": "085dfd84-768c-4c7c-8d92-5cd0334adfdf"
      },
      "outputs": [
        {
          "name": "stdout",
          "output_type": "stream",
          "text": [
            "Sum of the first observation's values: 1.0\n"
          ]
        }
      ],
      "source": [
        "# transform feature matrix\n",
        "features_l1_norm =\tNormalizer(norm=\"l1\").transform(data)\n",
        "print(\"Sum of the first observation's values: {}\".format(features_l1_norm[0,0] + features_l1_norm[0, 1]))"
      ]
    },
    {
      "cell_type": "code",
      "execution_count": 7,
      "metadata": {
        "colab": {
          "base_uri": "https://localhost:8080/"
        },
        "id": "TEZkhbk4xain",
        "outputId": "a8a74276-8ca9-4f01-a657-0806bc219e77"
      },
      "outputs": [
        {
          "name": "stdout",
          "output_type": "stream",
          "text": [
            "\n",
            "L1 Normalized Feature Matrix:\n",
            "[[0.33333333 0.66666667]\n",
            " [0.4        0.6       ]\n",
            " [0.42857143 0.57142857]]\n"
          ]
        }
      ],
      "source": [
        "# Display the L1 normalized feature matrix\n",
        "print(\"\\nL1 Normalized Feature Matrix:\")\n",
        "print(features_l1_norm)"
      ]
    }
  ],
  "metadata": {
    "colab": {
      "provenance": []
    },
    "kernelspec": {
      "display_name": "Python 3",
      "name": "python3"
    },
    "language_info": {
      "codemirror_mode": {
        "name": "ipython",
        "version": 3
      },
      "file_extension": ".py",
      "mimetype": "text/x-python",
      "name": "python",
      "nbconvert_exporter": "python",
      "pygments_lexer": "ipython3",
      "version": "3.11.5"
    }
  },
  "nbformat": 4,
  "nbformat_minor": 0
}
