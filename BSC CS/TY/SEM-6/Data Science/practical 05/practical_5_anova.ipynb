{
 "cells": [
  {
   "cell_type": "markdown",
   "metadata": {},
   "source": [
    "**Name: Mohammed Varaliya**\n",
    "\n",
    "**Roll No: T109**"
   ]
  },
  {
   "cell_type": "markdown",
   "metadata": {},
   "source": [
    "## ANOVA (Analysis of Variance)"
   ]
  },
  {
   "cell_type": "code",
   "execution_count": 1,
   "metadata": {},
   "outputs": [
    {
     "name": "stdout",
     "output_type": "stream",
     "text": [
      "p-value for significance is:  0.015909958325622895\n",
      "Reject null hypothesis.\n"
     ]
    }
   ],
   "source": [
    "import pandas as pd\n",
    "from scipy import stats\n",
    "df_anova = pd.read_csv(\"assets\\\\PlantGrowth.csv\") # Read the dataset from the \".csv\" file\n",
    "df_anova = df_anova[[\"weight\", \"group\"]] # Segregate the dataset for samples\n",
    "\n",
    "grps = pd.unique(df_anova.group.values)\n",
    "d_data = {\n",
    "    grp:df_anova[\"weight\"][df_anova.group == grp] for grp in grps\n",
    "}\n",
    "\n",
    "F, p = stats.f_oneway(d_data[\"ctrl\"], d_data[\"trt1\"], d_data[\"trt2\"])\n",
    "print(\"p-value for significance is: \", p)\n",
    "if p < 0.05:\n",
    "    print(\"Reject null hypothesis.\")\n",
    "else:\n",
    "    print(\"Accept null hypothesis.\")"
   ]
  }
 ],
 "metadata": {
  "kernelspec": {
   "display_name": "Python 3",
   "language": "python",
   "name": "python3"
  },
  "language_info": {
   "codemirror_mode": {
    "name": "ipython",
    "version": 3
   },
   "file_extension": ".py",
   "mimetype": "text/x-python",
   "name": "python",
   "nbconvert_exporter": "python",
   "pygments_lexer": "ipython3",
   "version": "3.11.5"
  }
 },
 "nbformat": 4,
 "nbformat_minor": 2
}
