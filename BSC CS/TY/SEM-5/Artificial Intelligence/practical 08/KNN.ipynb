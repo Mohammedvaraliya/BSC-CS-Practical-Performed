{
  "nbformat": 4,
  "nbformat_minor": 0,
  "metadata": {
    "colab": {
      "provenance": []
    },
    "kernelspec": {
      "name": "python3",
      "display_name": "Python 3"
    },
    "language_info": {
      "name": "python"
    }
  },
  "cells": [
    {
      "cell_type": "markdown",
      "source": [
        "## K-Nearest Neigbors"
      ],
      "metadata": {
        "id": "_-fE0MpHDGEJ"
      }
    },
    {
      "cell_type": "markdown",
      "source": [
        "### Import all the necessary libraries"
      ],
      "metadata": {
        "id": "aWHn-NwGDJTY"
      }
    },
    {
      "cell_type": "code",
      "source": [
        "import matplotlib.pyplot as plt\n",
        "from sklearn.datasets import load_breast_cancer\n",
        "from sklearn.model_selection import train_test_split\n",
        "import numpy as np\n",
        "from sklearn.neighbors import KNeighborsClassifier\n",
        "from sklearn.metrics import classification_report,confusion_matrix"
      ],
      "metadata": {
        "id": "aF7w2GIiDHyq"
      },
      "execution_count": 1,
      "outputs": []
    },
    {
      "cell_type": "markdown",
      "source": [
        "### Load the dataset"
      ],
      "metadata": {
        "id": "x1_p5eKKDVgw"
      }
    },
    {
      "cell_type": "code",
      "source": [
        "b_cancer = load_breast_cancer()\n",
        "X = b_cancer.data\n",
        "y = b_cancer.target"
      ],
      "metadata": {
        "id": "j4JFcy8GDS4J"
      },
      "execution_count": 2,
      "outputs": []
    },
    {
      "cell_type": "markdown",
      "source": [
        "### Split the dataset in training and testing"
      ],
      "metadata": {
        "id": "hAcNi24NDeUK"
      }
    },
    {
      "cell_type": "code",
      "source": [
        "X_train, X_test, y_train, y_test = train_test_split(X, y, test_size=0.30)"
      ],
      "metadata": {
        "id": "kPRA4UPIDcl1"
      },
      "execution_count": 3,
      "outputs": []
    },
    {
      "cell_type": "markdown",
      "source": [
        "### Train the model with `k = 1`"
      ],
      "metadata": {
        "id": "v58-qFcUDjTH"
      }
    },
    {
      "cell_type": "code",
      "source": [
        "knn = KNeighborsClassifier(n_neighbors=1)\n",
        "knn.fit(X_train,y_train)\n",
        "KNeighborsClassifier(algorithm='auto', leaf_size=30, metric='minkowski',\n",
        "           metric_params=None, n_jobs=1, n_neighbors=1, p=2,\n",
        "           weights='uniform')\n",
        "\n",
        "pred = knn.predict(X_test)\n",
        "print(pred)"
      ],
      "metadata": {
        "colab": {
          "base_uri": "https://localhost:8080/"
        },
        "id": "EHrCqOkADg-S",
        "outputId": "d715719d-4c8f-4221-86f0-8d80e425d2ac"
      },
      "execution_count": 4,
      "outputs": [
        {
          "output_type": "stream",
          "name": "stdout",
          "text": [
            "[1 1 0 1 1 1 1 1 0 1 1 0 1 1 1 0 1 0 1 0 0 0 0 0 1 0 1 1 0 1 0 0 1 1 1 1 1\n",
            " 1 0 0 1 1 0 1 1 1 1 1 1 1 0 1 1 1 0 1 0 1 1 0 0 0 0 1 1 1 1 1 0 1 0 0 0 1\n",
            " 0 0 1 0 1 1 0 1 1 0 0 1 0 1 1 0 1 1 1 1 0 1 1 1 1 1 0 1 1 0 0 1 1 1 1 1 1\n",
            " 1 1 0 1 1 1 1 1 1 1 1 1 0 1 1 0 1 1 1 1 1 1 0 1 1 1 0 1 1 1 1 0 0 1 1 0 1\n",
            " 0 1 1 1 0 0 1 1 0 0 0 1 1 1 1 0 0 0 1 0 1 1 0]\n"
          ]
        }
      ]
    },
    {
      "cell_type": "markdown",
      "source": [
        "### Evaluate the model with `k = 1`"
      ],
      "metadata": {
        "id": "xs1mU4NIDsOp"
      }
    },
    {
      "cell_type": "code",
      "source": [
        "print(confusion_matrix(y_test,pred))\n",
        "print(classification_report(y_test,pred))"
      ],
      "metadata": {
        "colab": {
          "base_uri": "https://localhost:8080/"
        },
        "id": "pQa_nhB9Dp5U",
        "outputId": "a5d3d197-2978-4648-8b9f-3359879e10aa"
      },
      "execution_count": 5,
      "outputs": [
        {
          "output_type": "stream",
          "name": "stdout",
          "text": [
            "[[ 51   9]\n",
            " [  8 103]]\n",
            "              precision    recall  f1-score   support\n",
            "\n",
            "           0       0.86      0.85      0.86        60\n",
            "           1       0.92      0.93      0.92       111\n",
            "\n",
            "    accuracy                           0.90       171\n",
            "   macro avg       0.89      0.89      0.89       171\n",
            "weighted avg       0.90      0.90      0.90       171\n",
            "\n"
          ]
        }
      ]
    },
    {
      "cell_type": "markdown",
      "source": [
        "### Choosing the `k` value using the elbow method"
      ],
      "metadata": {
        "id": "vuehwop8Dy_T"
      }
    },
    {
      "cell_type": "code",
      "source": [
        "error_rate = []\n",
        "\n",
        "# Will take some time\n",
        "for i in range(1,40):\n",
        "    knn = KNeighborsClassifier(n_neighbors=i)\n",
        "    knn.fit(X_train,y_train)\n",
        "    pred_i = knn.predict(X_test)\n",
        "    error_rate.append(np.mean(pred_i != y_test))\n",
        "\n",
        "plt.figure(figsize=(10,6))\n",
        "\n",
        "plt.plot(range(1,40),error_rate,color='blue', linestyle='dashed', marker='o',\n",
        "         markerfacecolor='red', markersize=10)\n",
        "\n",
        "plt.title('Error Rate vs. K Value')\n",
        "\n",
        "plt.xlabel('K')\n",
        "\n",
        "plt.ylabel('Error Rate')"
      ],
      "metadata": {
        "colab": {
          "base_uri": "https://localhost:8080/",
          "height": 581
        },
        "id": "VGE2rPkqDv7V",
        "outputId": "839a1a77-25d2-4da8-99cd-1f6c1e9a99fb"
      },
      "execution_count": 6,
      "outputs": [
        {
          "output_type": "execute_result",
          "data": {
            "text/plain": [
              "Text(0, 0.5, 'Error Rate')"
            ]
          },
          "metadata": {},
          "execution_count": 6
        },
        {
          "output_type": "display_data",
          "data": {
            "text/plain": [
              "<Figure size 1000x600 with 1 Axes>"
            ],
            "image/png": "[encoded data removed]"
          },
          "metadata": {}
        }
      ]
    },
    {
      "cell_type": "markdown",
      "source": [
        "### Train the model with the new `k` value"
      ],
      "metadata": {
        "id": "F_uvjrjlEGBi"
      }
    },
    {
      "cell_type": "code",
      "source": [
        "knn = KNeighborsClassifier(n_neighbors=8)\n",
        "\n",
        "knn.fit(X_train,y_train)\n",
        "pred = knn.predict(X_test)\n",
        "\n",
        "print('\\n')\n",
        "print(confusion_matrix(y_test,pred))\n",
        "print('\\n')\n",
        "print(classification_report(y_test,pred))"
      ],
      "metadata": {
        "colab": {
          "base_uri": "https://localhost:8080/"
        },
        "id": "ldvC_nBaD45e",
        "outputId": "0c4a4239-a866-4fa1-aa8d-c7f4bede6cec"
      },
      "execution_count": 7,
      "outputs": [
        {
          "output_type": "stream",
          "name": "stdout",
          "text": [
            "\n",
            "\n",
            "[[ 57   3]\n",
            " [  5 106]]\n",
            "\n",
            "\n",
            "              precision    recall  f1-score   support\n",
            "\n",
            "           0       0.92      0.95      0.93        60\n",
            "           1       0.97      0.95      0.96       111\n",
            "\n",
            "    accuracy                           0.95       171\n",
            "   macro avg       0.95      0.95      0.95       171\n",
            "weighted avg       0.95      0.95      0.95       171\n",
            "\n"
          ]
        }
      ]
    }
  ]
}